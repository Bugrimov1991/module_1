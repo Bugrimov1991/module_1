{
 "cells": [
  {
   "cell_type": "code",
   "execution_count": 46,
   "metadata": {
    "_cell_guid": "b1076dfc-b9ad-4769-8c92-a6c4dae69d19",
    "_uuid": "8f2839f25d086af736a60e9eeb907d3b93b6e0e5",
    "colab": {},
    "colab_type": "code",
    "id": "U2D2gTdJVp90"
   },
   "outputs": [],
   "source": [
    "import pandas as pd\n",
    "import collections\n",
    "from itertools import combinations"
   ]
  },
  {
   "cell_type": "code",
   "execution_count": 47,
   "metadata": {
    "_cell_guid": "79c7e3d0-c299-4dcb-8224-4455121ee9b0",
    "_uuid": "d629ff2d2480ee46fbb7e2d37f6b5fab8052498a",
    "colab": {},
    "colab_type": "code",
    "id": "oyGfxL3eVp9-"
   },
   "outputs": [
    {
     "data": {
      "text/html": [
       "<div>\n",
       "<style scoped>\n",
       "    .dataframe tbody tr th:only-of-type {\n",
       "        vertical-align: middle;\n",
       "    }\n",
       "\n",
       "    .dataframe tbody tr th {\n",
       "        vertical-align: top;\n",
       "    }\n",
       "\n",
       "    .dataframe thead th {\n",
       "        text-align: right;\n",
       "    }\n",
       "</style>\n",
       "<table border=\"1\" class=\"dataframe\">\n",
       "  <thead>\n",
       "    <tr style=\"text-align: right;\">\n",
       "      <th></th>\n",
       "      <th>imdb_id</th>\n",
       "      <th>budget</th>\n",
       "      <th>revenue</th>\n",
       "      <th>original_title</th>\n",
       "      <th>cast</th>\n",
       "      <th>director</th>\n",
       "      <th>tagline</th>\n",
       "      <th>overview</th>\n",
       "      <th>runtime</th>\n",
       "      <th>genres</th>\n",
       "      <th>production_companies</th>\n",
       "      <th>release_date</th>\n",
       "      <th>vote_average</th>\n",
       "      <th>release_year</th>\n",
       "    </tr>\n",
       "  </thead>\n",
       "  <tbody>\n",
       "    <tr>\n",
       "      <th>989</th>\n",
       "      <td>tt1981677</td>\n",
       "      <td>17000000</td>\n",
       "      <td>115350426</td>\n",
       "      <td>Pitch Perfect</td>\n",
       "      <td>Anna Kendrick|Skylar Astin|Brittany Snow|Anna ...</td>\n",
       "      <td>Jason Moore</td>\n",
       "      <td>Get pitch slapped.</td>\n",
       "      <td>College student Beca knows she does not want t...</td>\n",
       "      <td>112</td>\n",
       "      <td>Comedy|Music|Romance</td>\n",
       "      <td>Brownstone Productions</td>\n",
       "      <td>9/28/2012</td>\n",
       "      <td>7.2</td>\n",
       "      <td>2012</td>\n",
       "    </tr>\n",
       "    <tr>\n",
       "      <th>1524</th>\n",
       "      <td>tt0462338</td>\n",
       "      <td>25000000</td>\n",
       "      <td>11772461</td>\n",
       "      <td>The Hoax</td>\n",
       "      <td>Richard Gere|Alfred Molina|Marcia Gay Harden|H...</td>\n",
       "      <td>Lasse HallstrÃ¶m</td>\n",
       "      <td>Never let the truth get in the way of a good s...</td>\n",
       "      <td>In what would cause a fantastic media frenzy, ...</td>\n",
       "      <td>116</td>\n",
       "      <td>Comedy|Drama</td>\n",
       "      <td>Miramax Films|The Mark Gordon Company|Yari Fil...</td>\n",
       "      <td>10/14/2006</td>\n",
       "      <td>6.5</td>\n",
       "      <td>2006</td>\n",
       "    </tr>\n",
       "    <tr>\n",
       "      <th>35</th>\n",
       "      <td>tt1979388</td>\n",
       "      <td>175000000</td>\n",
       "      <td>331926147</td>\n",
       "      <td>The Good Dinosaur</td>\n",
       "      <td>Raymond Ochoa|Jack Bright|Jeffrey Wright|Franc...</td>\n",
       "      <td>Peter Sohn</td>\n",
       "      <td>Little Arms With Big Attitude</td>\n",
       "      <td>An epic journey into the world of dinosaurs wh...</td>\n",
       "      <td>93</td>\n",
       "      <td>Adventure|Animation|Comedy|Family|Fantasy</td>\n",
       "      <td>Walt Disney Pictures|Pixar Animation Studios|B...</td>\n",
       "      <td>11/14/2015</td>\n",
       "      <td>6.6</td>\n",
       "      <td>2015</td>\n",
       "    </tr>\n",
       "    <tr>\n",
       "      <th>395</th>\n",
       "      <td>tt0970866</td>\n",
       "      <td>100000000</td>\n",
       "      <td>310650585</td>\n",
       "      <td>Little Fockers</td>\n",
       "      <td>Robert De Niro|Ben Stiller|Owen Wilson|Dustin ...</td>\n",
       "      <td>Paul Weitz</td>\n",
       "      <td>Kids bring everyone closer, right?</td>\n",
       "      <td>It has taken 10 years, two little Fockers with...</td>\n",
       "      <td>98</td>\n",
       "      <td>Comedy|Romance</td>\n",
       "      <td>Paramount Pictures|Universal Pictures|Everyman...</td>\n",
       "      <td>12/21/2010</td>\n",
       "      <td>5.4</td>\n",
       "      <td>2010</td>\n",
       "    </tr>\n",
       "    <tr>\n",
       "      <th>1845</th>\n",
       "      <td>tt0181875</td>\n",
       "      <td>60000000</td>\n",
       "      <td>47383689</td>\n",
       "      <td>Almost Famous</td>\n",
       "      <td>Kate Hudson|Billy Crudup|Frances McDormand|Jas...</td>\n",
       "      <td>Cameron Crowe</td>\n",
       "      <td>Experience it. Enjoy it. Just don't fall for it.</td>\n",
       "      <td>Almost Famous is an autobiographical inspired ...</td>\n",
       "      <td>122</td>\n",
       "      <td>Drama|Music</td>\n",
       "      <td>Columbia Pictures|Vinyl Films|DreamWorks Pictures</td>\n",
       "      <td>9/15/2000</td>\n",
       "      <td>7.3</td>\n",
       "      <td>2000</td>\n",
       "    </tr>\n",
       "  </tbody>\n",
       "</table>\n",
       "</div>"
      ],
      "text/plain": [
       "        imdb_id     budget    revenue     original_title  \\\n",
       "989   tt1981677   17000000  115350426      Pitch Perfect   \n",
       "1524  tt0462338   25000000   11772461           The Hoax   \n",
       "35    tt1979388  175000000  331926147  The Good Dinosaur   \n",
       "395   tt0970866  100000000  310650585     Little Fockers   \n",
       "1845  tt0181875   60000000   47383689      Almost Famous   \n",
       "\n",
       "                                                   cast          director  \\\n",
       "989   Anna Kendrick|Skylar Astin|Brittany Snow|Anna ...       Jason Moore   \n",
       "1524  Richard Gere|Alfred Molina|Marcia Gay Harden|H...  Lasse HallstrÃ¶m   \n",
       "35    Raymond Ochoa|Jack Bright|Jeffrey Wright|Franc...        Peter Sohn   \n",
       "395   Robert De Niro|Ben Stiller|Owen Wilson|Dustin ...        Paul Weitz   \n",
       "1845  Kate Hudson|Billy Crudup|Frances McDormand|Jas...     Cameron Crowe   \n",
       "\n",
       "                                                tagline  \\\n",
       "989                                  Get pitch slapped.   \n",
       "1524  Never let the truth get in the way of a good s...   \n",
       "35                        Little Arms With Big Attitude   \n",
       "395                  Kids bring everyone closer, right?   \n",
       "1845   Experience it. Enjoy it. Just don't fall for it.   \n",
       "\n",
       "                                               overview  runtime  \\\n",
       "989   College student Beca knows she does not want t...      112   \n",
       "1524  In what would cause a fantastic media frenzy, ...      116   \n",
       "35    An epic journey into the world of dinosaurs wh...       93   \n",
       "395   It has taken 10 years, two little Fockers with...       98   \n",
       "1845  Almost Famous is an autobiographical inspired ...      122   \n",
       "\n",
       "                                         genres  \\\n",
       "989                        Comedy|Music|Romance   \n",
       "1524                               Comedy|Drama   \n",
       "35    Adventure|Animation|Comedy|Family|Fantasy   \n",
       "395                              Comedy|Romance   \n",
       "1845                                Drama|Music   \n",
       "\n",
       "                                   production_companies release_date  \\\n",
       "989                              Brownstone Productions    9/28/2012   \n",
       "1524  Miramax Films|The Mark Gordon Company|Yari Fil...   10/14/2006   \n",
       "35    Walt Disney Pictures|Pixar Animation Studios|B...   11/14/2015   \n",
       "395   Paramount Pictures|Universal Pictures|Everyman...   12/21/2010   \n",
       "1845  Columbia Pictures|Vinyl Films|DreamWorks Pictures    9/15/2000   \n",
       "\n",
       "      vote_average  release_year  \n",
       "989            7.2          2012  \n",
       "1524           6.5          2006  \n",
       "35             6.6          2015  \n",
       "395            5.4          2010  \n",
       "1845           7.3          2000  "
      ]
     },
     "execution_count": 47,
     "metadata": {},
     "output_type": "execute_result"
    }
   ],
   "source": [
    "data = pd.read_csv('movie_bd_v5.csv')\n",
    "data.sample(5)"
   ]
  },
  {
   "cell_type": "code",
   "execution_count": 48,
   "metadata": {
    "colab": {},
    "colab_type": "code",
    "id": "CoYUnagMVp-C"
   },
   "outputs": [
    {
     "data": {
      "text/html": [
       "<div>\n",
       "<style scoped>\n",
       "    .dataframe tbody tr th:only-of-type {\n",
       "        vertical-align: middle;\n",
       "    }\n",
       "\n",
       "    .dataframe tbody tr th {\n",
       "        vertical-align: top;\n",
       "    }\n",
       "\n",
       "    .dataframe thead th {\n",
       "        text-align: right;\n",
       "    }\n",
       "</style>\n",
       "<table border=\"1\" class=\"dataframe\">\n",
       "  <thead>\n",
       "    <tr style=\"text-align: right;\">\n",
       "      <th></th>\n",
       "      <th>budget</th>\n",
       "      <th>revenue</th>\n",
       "      <th>runtime</th>\n",
       "      <th>vote_average</th>\n",
       "      <th>release_year</th>\n",
       "    </tr>\n",
       "  </thead>\n",
       "  <tbody>\n",
       "    <tr>\n",
       "      <th>count</th>\n",
       "      <td>1.889000e+03</td>\n",
       "      <td>1.889000e+03</td>\n",
       "      <td>1889.000000</td>\n",
       "      <td>1889.000000</td>\n",
       "      <td>1889.000000</td>\n",
       "    </tr>\n",
       "    <tr>\n",
       "      <th>mean</th>\n",
       "      <td>5.431083e+07</td>\n",
       "      <td>1.553653e+08</td>\n",
       "      <td>109.658549</td>\n",
       "      <td>6.140762</td>\n",
       "      <td>2007.860773</td>\n",
       "    </tr>\n",
       "    <tr>\n",
       "      <th>std</th>\n",
       "      <td>4.858721e+07</td>\n",
       "      <td>2.146698e+08</td>\n",
       "      <td>18.017041</td>\n",
       "      <td>0.764763</td>\n",
       "      <td>4.468841</td>\n",
       "    </tr>\n",
       "    <tr>\n",
       "      <th>min</th>\n",
       "      <td>5.000000e+06</td>\n",
       "      <td>2.033165e+06</td>\n",
       "      <td>63.000000</td>\n",
       "      <td>3.300000</td>\n",
       "      <td>2000.000000</td>\n",
       "    </tr>\n",
       "    <tr>\n",
       "      <th>25%</th>\n",
       "      <td>2.000000e+07</td>\n",
       "      <td>3.456058e+07</td>\n",
       "      <td>97.000000</td>\n",
       "      <td>5.600000</td>\n",
       "      <td>2004.000000</td>\n",
       "    </tr>\n",
       "    <tr>\n",
       "      <th>50%</th>\n",
       "      <td>3.800000e+07</td>\n",
       "      <td>8.361541e+07</td>\n",
       "      <td>107.000000</td>\n",
       "      <td>6.100000</td>\n",
       "      <td>2008.000000</td>\n",
       "    </tr>\n",
       "    <tr>\n",
       "      <th>75%</th>\n",
       "      <td>7.200000e+07</td>\n",
       "      <td>1.782626e+08</td>\n",
       "      <td>120.000000</td>\n",
       "      <td>6.600000</td>\n",
       "      <td>2012.000000</td>\n",
       "    </tr>\n",
       "    <tr>\n",
       "      <th>max</th>\n",
       "      <td>3.800000e+08</td>\n",
       "      <td>2.781506e+09</td>\n",
       "      <td>214.000000</td>\n",
       "      <td>8.100000</td>\n",
       "      <td>2015.000000</td>\n",
       "    </tr>\n",
       "  </tbody>\n",
       "</table>\n",
       "</div>"
      ],
      "text/plain": [
       "             budget       revenue      runtime  vote_average  release_year\n",
       "count  1.889000e+03  1.889000e+03  1889.000000   1889.000000   1889.000000\n",
       "mean   5.431083e+07  1.553653e+08   109.658549      6.140762   2007.860773\n",
       "std    4.858721e+07  2.146698e+08    18.017041      0.764763      4.468841\n",
       "min    5.000000e+06  2.033165e+06    63.000000      3.300000   2000.000000\n",
       "25%    2.000000e+07  3.456058e+07    97.000000      5.600000   2004.000000\n",
       "50%    3.800000e+07  8.361541e+07   107.000000      6.100000   2008.000000\n",
       "75%    7.200000e+07  1.782626e+08   120.000000      6.600000   2012.000000\n",
       "max    3.800000e+08  2.781506e+09   214.000000      8.100000   2015.000000"
      ]
     },
     "execution_count": 48,
     "metadata": {},
     "output_type": "execute_result"
    }
   ],
   "source": [
    "data.describe()"
   ]
  },
  {
   "cell_type": "markdown",
   "metadata": {
    "colab_type": "text",
    "id": "DTIt7ezGVp-G"
   },
   "source": [
    "# Предобработка"
   ]
  },
  {
   "cell_type": "code",
   "execution_count": 49,
   "metadata": {
    "colab": {},
    "colab_type": "code",
    "id": "jNb40DwKVp-H"
   },
   "outputs": [],
   "source": [
    "data = pd.read_csv('movie_bd_v5.csv')\n",
    "data['profit'] = data['revenue'] - data['budget']\n",
    "months = {1: 'Январь', 2: 'Февраль', 3: 'Март', 4: 'Апрель', 5: 'Май', 6: 'Июнь',\n",
    "          7: 'Июль', 8: 'Август', 9: 'Сентябрь', 10: 'Октябрь', 11: 'Ноябрь', 12: 'Декабрь'}\n",
    "answers = {}"
   ]
  },
  {
   "cell_type": "markdown",
   "metadata": {
    "colab_type": "text",
    "id": "YxZaH-nPVp-L"
   },
   "source": [
    "# 1. У какого фильма из списка самый большой бюджет?"
   ]
  },
  {
   "cell_type": "markdown",
   "metadata": {
    "colab_type": "text",
    "id": "Nd-G5gX6Vp-M"
   },
   "source": [
    "Использовать варианты ответов в коде решения запрещено.    \n",
    "Вы думаете и в жизни у вас будут варианты ответов?)"
   ]
  },
  {
   "cell_type": "code",
   "execution_count": 50,
   "metadata": {
    "colab": {},
    "colab_type": "code",
    "id": "uVnXAY5RVp-O"
   },
   "outputs": [
    {
     "data": {
      "text/plain": [
       "'Pirates of the Caribbean: On Stranger Tides'"
      ]
     },
     "metadata": {},
     "output_type": "display_data"
    }
   ],
   "source": [
    "# Извлекаем данные по условию \n",
    "display(data[data.budget == data.budget.max()].original_title.iloc[0])\n",
    "answers['1'] = data[data.budget == data.budget.max()].original_title.iloc[0]\n",
    "# +"
   ]
  },
  {
   "cell_type": "markdown",
   "metadata": {
    "colab_type": "text",
    "id": "K7L3nbRXVp-X"
   },
   "source": [
    "ВАРИАНТ 2"
   ]
  },
  {
   "cell_type": "code",
   "execution_count": 51,
   "metadata": {
    "colab": {},
    "colab_type": "code",
    "id": "OGaoQI7rVp-X"
   },
   "outputs": [
    {
     "data": {
      "text/plain": [
       "'Pirates of the Caribbean: On Stranger Tides'"
      ]
     },
     "metadata": {},
     "output_type": "display_data"
    }
   ],
   "source": [
    "# Группирование названий фильмов через максимальный бюджет по убыванию\n",
    "display(data.groupby(['original_title'])['budget'].max().sort_values(ascending=False).index[0])"
   ]
  },
  {
   "cell_type": "markdown",
   "metadata": {
    "colab_type": "text",
    "id": "FNRbbI3vVp-c"
   },
   "source": [
    "# 2. Какой из фильмов самый длительный (в минутах)?"
   ]
  },
  {
   "cell_type": "code",
   "execution_count": 52,
   "metadata": {
    "colab": {},
    "colab_type": "code",
    "id": "vHAoEXNTVp-d"
   },
   "outputs": [
    {
     "data": {
      "text/plain": [
       "'Gods and Generals'"
      ]
     },
     "metadata": {},
     "output_type": "display_data"
    }
   ],
   "source": [
    "display(data[data.runtime == data.runtime.max()].original_title.iloc[0])\n",
    "answers['2'] = data[data.runtime == data.runtime.max()].original_title.iloc[0]\n",
    "# +"
   ]
  },
  {
   "cell_type": "code",
   "execution_count": 53,
   "metadata": {
    "colab": {},
    "colab_type": "code",
    "id": "ot-VX2XrVp-g",
    "scrolled": true
   },
   "outputs": [
    {
     "data": {
      "text/plain": [
       "'Gods and Generals'"
      ]
     },
     "metadata": {},
     "output_type": "display_data"
    }
   ],
   "source": [
    "display(data.groupby(['original_title'])['runtime'].max().sort_values(ascending=False).index[0])"
   ]
  },
  {
   "cell_type": "markdown",
   "metadata": {
    "colab_type": "text",
    "id": "bapLlpW8Vp-k"
   },
   "source": [
    "# 3. Какой из фильмов самый короткий (в минутах)?\n",
    "\n",
    "\n",
    "\n"
   ]
  },
  {
   "cell_type": "code",
   "execution_count": 54,
   "metadata": {
    "colab": {},
    "colab_type": "code",
    "id": "YBxaSHuAVp-l"
   },
   "outputs": [
    {
     "data": {
      "text/plain": [
       "'Winnie the Pooh'"
      ]
     },
     "metadata": {},
     "output_type": "display_data"
    }
   ],
   "source": [
    "display(data[data.runtime == data.runtime.min()].original_title.iloc[0])\n",
    "answers['3'] = data[data.runtime == data.runtime.min()].original_title.iloc[0]\n",
    "# +"
   ]
  },
  {
   "cell_type": "code",
   "execution_count": 55,
   "metadata": {},
   "outputs": [
    {
     "data": {
      "text/plain": [
       "'Winnie the Pooh'"
      ]
     },
     "metadata": {},
     "output_type": "display_data"
    }
   ],
   "source": [
    "display(data.groupby(['original_title'])['runtime'].max().sort_values(ascending=True).index[0])"
   ]
  },
  {
   "cell_type": "markdown",
   "metadata": {
    "colab_type": "text",
    "id": "TfQbxbfNVp-p"
   },
   "source": [
    "# 4. Какова средняя длительность фильмов?\n"
   ]
  },
  {
   "cell_type": "code",
   "execution_count": 56,
   "metadata": {
    "colab": {},
    "colab_type": "code",
    "id": "5K6dKZYVVp-q"
   },
   "outputs": [
    {
     "data": {
      "text/plain": [
       "109.6585494970884"
      ]
     },
     "metadata": {},
     "output_type": "display_data"
    }
   ],
   "source": [
    "display(data.runtime.mean())\n",
    "answers['4'] = data.runtime.mean()\n",
    "# +"
   ]
  },
  {
   "cell_type": "code",
   "execution_count": 57,
   "metadata": {},
   "outputs": [
    {
     "data": {
      "text/plain": [
       "109.6585494970884"
      ]
     },
     "metadata": {},
     "output_type": "display_data"
    }
   ],
   "source": [
    "# Выводим основные статистические характеристики данных\n",
    "display(data.describe().loc['mean'][2])"
   ]
  },
  {
   "cell_type": "markdown",
   "metadata": {
    "colab_type": "text",
    "id": "r5TvbnT_Vp-u"
   },
   "source": [
    "# 5. Каково медианное значение длительности фильмов? "
   ]
  },
  {
   "cell_type": "code",
   "execution_count": 58,
   "metadata": {
    "colab": {},
    "colab_type": "code",
    "id": "iBROplKnVp-v"
   },
   "outputs": [
    {
     "data": {
      "text/plain": [
       "107.0"
      ]
     },
     "metadata": {},
     "output_type": "display_data"
    }
   ],
   "source": [
    "# Выводим  медианное значение\n",
    "display(data.runtime.median())\n",
    "answers['5'] = data.runtime.median()\n",
    "# +"
   ]
  },
  {
   "cell_type": "markdown",
   "metadata": {
    "colab_type": "text",
    "id": "39P-deDSVp-y"
   },
   "source": [
    "# 6. Какой самый прибыльный фильм?\n",
    "#### Внимание! Здесь и далее под «прибылью» или «убытками» понимается разность между сборами и бюджетом фильма. (прибыль = сборы - бюджет) в нашем датасете это будет (profit = revenue - budget) "
   ]
  },
  {
   "cell_type": "code",
   "execution_count": 59,
   "metadata": {
    "colab": {},
    "colab_type": "code",
    "id": "UYZh4T9WVp-y"
   },
   "outputs": [
    {
     "data": {
      "text/plain": [
       "'Avatar'"
      ]
     },
     "metadata": {},
     "output_type": "display_data"
    }
   ],
   "source": [
    "display(data[data.profit == data.profit.max()].original_title.iloc[0])\n",
    "answers['6'] = data[data.profit == data.profit.max()].original_title.iloc[0]\n",
    "# +"
   ]
  },
  {
   "cell_type": "code",
   "execution_count": 60,
   "metadata": {},
   "outputs": [
    {
     "data": {
      "text/plain": [
       "'Avatar'"
      ]
     },
     "metadata": {},
     "output_type": "display_data"
    }
   ],
   "source": [
    "display(data.groupby(['original_title'])['profit'].max().sort_values(ascending=False).index[0])"
   ]
  },
  {
   "cell_type": "markdown",
   "metadata": {
    "colab_type": "text",
    "id": "M99JmIX4Vp-2"
   },
   "source": [
    "# 7. Какой фильм самый убыточный? "
   ]
  },
  {
   "cell_type": "code",
   "execution_count": 61,
   "metadata": {
    "colab": {},
    "colab_type": "code",
    "id": "w-D2m4XPVp-3"
   },
   "outputs": [
    {
     "data": {
      "text/plain": [
       "'The Lone Ranger'"
      ]
     },
     "metadata": {},
     "output_type": "display_data"
    }
   ],
   "source": [
    "display(data[data.profit == data.profit.min()].original_title.iloc[0])\n",
    "answers['7'] = data[data.profit == data.profit.min()].original_title.iloc[0]\n",
    "# +"
   ]
  },
  {
   "cell_type": "code",
   "execution_count": 62,
   "metadata": {},
   "outputs": [
    {
     "data": {
      "text/plain": [
       "'The Lone Ranger'"
      ]
     },
     "metadata": {},
     "output_type": "display_data"
    }
   ],
   "source": [
    "display(data.groupby(['original_title'])['profit'].max().sort_values(ascending=True).index[0])"
   ]
  },
  {
   "cell_type": "markdown",
   "metadata": {
    "colab_type": "text",
    "id": "wEOM5ERVVp-6"
   },
   "source": [
    "# 8. У скольких фильмов из датасета объем сборов оказался выше бюджета?"
   ]
  },
  {
   "cell_type": "code",
   "execution_count": 63,
   "metadata": {
    "colab": {},
    "colab_type": "code",
    "id": "y00_7HD6Vp-7"
   },
   "outputs": [
    {
     "data": {
      "text/plain": [
       "1478"
      ]
     },
     "metadata": {},
     "output_type": "display_data"
    }
   ],
   "source": [
    "# Сортируем по условию и считаем длину\n",
    "display(len(data[data.profit > 0]))\n",
    "answers['8'] = len(data[data.profit > 0])\n",
    "# +"
   ]
  },
  {
   "cell_type": "code",
   "execution_count": 64,
   "metadata": {},
   "outputs": [
    {
     "data": {
      "text/plain": [
       "1478"
      ]
     },
     "execution_count": 64,
     "metadata": {},
     "output_type": "execute_result"
    }
   ],
   "source": [
    "# Сортируем через запрос сравнения и считаем длину\n",
    "len(data.query('profit>0'))"
   ]
  },
  {
   "cell_type": "markdown",
   "metadata": {
    "colab_type": "text",
    "id": "xhpspA9KVp_A"
   },
   "source": [
    "# 9. Какой фильм оказался самым кассовым в 2008 году?"
   ]
  },
  {
   "cell_type": "code",
   "execution_count": 65,
   "metadata": {
    "colab": {},
    "colab_type": "code",
    "id": "MoUyQr9RVp_B"
   },
   "outputs": [
    {
     "data": {
      "text/plain": [
       "'The Dark Knight'"
      ]
     },
     "metadata": {},
     "output_type": "display_data"
    }
   ],
   "source": [
    "# Извлекаем данные по условию\n",
    "display(data[data.revenue == data[data.release_year == 2008].revenue.max()].original_title.iloc[0])\n",
    "answers['9'] = data[data.revenue == data[data.release_year == 2008].revenue.max()].original_title.iloc[0]\n",
    "# +"
   ]
  },
  {
   "cell_type": "markdown",
   "metadata": {
    "colab_type": "text",
    "id": "Zi4hDKidVp_F"
   },
   "source": [
    "# 10. Самый убыточный фильм за период с 2012 по 2014 г. (включительно)?\n"
   ]
  },
  {
   "cell_type": "code",
   "execution_count": 66,
   "metadata": {
    "colab": {},
    "colab_type": "code",
    "id": "XqyRmufJVp_F"
   },
   "outputs": [
    {
     "data": {
      "text/plain": [
       "'The Lone Ranger'"
      ]
     },
     "metadata": {},
     "output_type": "display_data"
    }
   ],
   "source": [
    "# Проводи сортировку по периуду времени\n",
    "profit_min = data.loc[(data['release_year'] <= 2014) & (data['release_year'] >= 2012)].copy()\n",
    "# Извлекаем данные по условию\n",
    "display(profit_min[profit_min.profit == profit_min.profit.min()].original_title.iloc[0])\n",
    "answers['10'] = profit_min[profit_min.profit == profit_min.profit.min()].original_title.iloc[0]\n",
    "# +"
   ]
  },
  {
   "cell_type": "markdown",
   "metadata": {
    "colab_type": "text",
    "id": "EA7Sa9dkVp_I"
   },
   "source": [
    "# 11. Какого жанра фильмов больше всего?"
   ]
  },
  {
   "cell_type": "code",
   "execution_count": 67,
   "metadata": {
    "colab": {},
    "colab_type": "code",
    "id": "zsJAwJ8QVp_J"
   },
   "outputs": [
    {
     "data": {
      "text/plain": [
       "'Drama'"
      ]
     },
     "metadata": {},
     "output_type": "display_data"
    }
   ],
   "source": [
    "# Объединяем все строки столбца genres\n",
    "data_genres = data.genres.str.cat(sep='|')\n",
    "# преобразовываем к series\n",
    "data_genres_series = pd.Series(data_genres.split('|'))\n",
    "# Считаем количество\n",
    "display(data_genres_series.value_counts().index[0])\n",
    "answers['11'] = data_genres_series.value_counts().index[0]\n",
    "# +"
   ]
  },
  {
   "cell_type": "markdown",
   "metadata": {
    "colab_type": "text",
    "id": "Ax6g2C8SVp_M"
   },
   "source": [
    "ВАРИАНТ 2"
   ]
  },
  {
   "cell_type": "code",
   "execution_count": 68,
   "metadata": {
    "colab": {},
    "colab_type": "code",
    "id": "otO3SbrSVp_N"
   },
   "outputs": [
    {
     "data": {
      "text/plain": [
       "'Drama'"
      ]
     },
     "metadata": {},
     "output_type": "display_data"
    }
   ],
   "source": [
    "display(collections.Counter(data.genres.str.cat(sep='|').split('|')).most_common()[0][0])"
   ]
  },
  {
   "cell_type": "markdown",
   "metadata": {
    "colab_type": "text",
    "id": "T9_bPWpkVp_Q"
   },
   "source": [
    "# 12. Фильмы какого жанра чаще всего становятся прибыльными? "
   ]
  },
  {
   "cell_type": "code",
   "execution_count": 69,
   "metadata": {
    "colab": {},
    "colab_type": "code",
    "id": "Tmt8MaK1Vp_R"
   },
   "outputs": [
    {
     "data": {
      "text/plain": [
       "'Drama'"
      ]
     },
     "metadata": {},
     "output_type": "display_data"
    }
   ],
   "source": [
    "# Проводим сортировку по условию\n",
    "data_genres_profit = data[data.profit > 0].copy()\n",
    "display(collections.Counter(data_genres_profit.genres.str.cat(sep='|').split('|')).most_common()[0][0])\n",
    "answers['12'] = collections.Counter(data_genres_profit.genres.str.cat(sep='|').split('|')).most_common()[0][0]\n",
    "# +"
   ]
  },
  {
   "cell_type": "markdown",
   "metadata": {
    "colab_type": "text",
    "id": "0F23bgsDVp_U"
   },
   "source": [
    "# 13. У какого режиссера самые большие суммарные кассовые сборы?"
   ]
  },
  {
   "cell_type": "code",
   "execution_count": 70,
   "metadata": {
    "colab": {},
    "colab_type": "code",
    "id": "K6Z3J8ygVp_X"
   },
   "outputs": [
    {
     "data": {
      "text/plain": [
       "'Peter Jackson'"
      ]
     },
     "metadata": {},
     "output_type": "display_data"
    }
   ],
   "source": [
    "# Создания копии объекта\n",
    "data_direcor = data.copy()\n",
    "# Преобразуем колонку\n",
    "data_direcor['director'] = data_direcor['director'].apply(lambda x: x.split('|'))\n",
    "# Создаем для каждого режиссера свою строчку\n",
    "data_director=data_direcor.explode('director')\n",
    "# Группирование названий фильмов через сумму revenue по убыванию\n",
    "display(data_director.groupby(['director'])['revenue'].sum().sort_values(ascending = False).index[0])\n",
    "answers['13'] = data_director.groupby(['director'])['revenue'].sum().sort_values(ascending = False).index[0]\n",
    "# +"
   ]
  },
  {
   "cell_type": "markdown",
   "metadata": {
    "colab_type": "text",
    "id": "PsYC9FgRVp_a"
   },
   "source": [
    "# 14. Какой режисер снял больше всего фильмов в стиле Action?"
   ]
  },
  {
   "cell_type": "code",
   "execution_count": 71,
   "metadata": {
    "colab": {},
    "colab_type": "code",
    "id": "wd2M-wHeVp_b"
   },
   "outputs": [
    {
     "data": {
      "text/plain": [
       "'Robert Rodriguez'"
      ]
     },
     "metadata": {},
     "output_type": "display_data"
    }
   ],
   "source": [
    "# Отфильтровываем датафрейм и оставиляем строки genres в которых есть Action\n",
    "data_genres_action = data[data.genres.str.contains('Action', na=False)].copy()\n",
    "display(collections.Counter(data_genres_action['director'].str.cat(sep='|').split('|')).most_common()[0][0])\n",
    "answers['14'] = collections.Counter(data_genres_action['director'].str.cat(sep='|').split('|')).most_common()[0][0]\n",
    "# +"
   ]
  },
  {
   "cell_type": "markdown",
   "metadata": {
    "colab_type": "text",
    "id": "PQ0KciD7Vp_f"
   },
   "source": [
    "# 15. Фильмы с каким актером принесли самые высокие кассовые сборы в 2012 году? "
   ]
  },
  {
   "cell_type": "code",
   "execution_count": 72,
   "metadata": {
    "colab": {},
    "colab_type": "code",
    "id": "aga62oeKVp_g"
   },
   "outputs": [
    {
     "data": {
      "text/plain": [
       "'Chris Hemsworth'"
      ]
     },
     "metadata": {},
     "output_type": "display_data"
    }
   ],
   "source": [
    "# Создали список с фильмами по условию\n",
    "data_2012 = data[data.release_year == 2012].copy()\n",
    "# Разделяем актеров\n",
    "data_2012['cast'] = data_2012['cast'].str.split('|')\n",
    "# Создаем для каждого актера свою строчку\n",
    "data_2012 = data_2012.explode('cast')\n",
    "# Выводим фильм\n",
    "display(data_2012.groupby('cast').revenue.sum().sort_values(ascending=False).index[0])\n",
    "answers['15'] = data_2012.groupby('cast').revenue.sum().sort_values(ascending=False).index[0]\n",
    "# +"
   ]
  },
  {
   "cell_type": "markdown",
   "metadata": {
    "colab_type": "text",
    "id": "mWHyyL7QVp_j"
   },
   "source": [
    "# 16. Какой актер снялся в большем количестве высокобюджетных фильмов?"
   ]
  },
  {
   "cell_type": "code",
   "execution_count": 73,
   "metadata": {
    "colab": {},
    "colab_type": "code",
    "id": "qQtmHKTFVp_k"
   },
   "outputs": [
    {
     "data": {
      "text/plain": [
       "'Matt Damon'"
      ]
     },
     "metadata": {},
     "output_type": "display_data"
    }
   ],
   "source": [
    "data_budget_meam = data[(data.budget > data.budget.mean())].copy()\n",
    "display(collections.Counter(data_budget_meam.cast.str.cat(sep='|').split('|')).most_common(1)[0][0])\n",
    "answers['16'] = collections.Counter(data_budget_meam.cast.str.cat(sep='|').split('|')).most_common(1)[0][0]\n",
    "# +"
   ]
  },
  {
   "cell_type": "markdown",
   "metadata": {
    "colab_type": "text",
    "id": "NIh6AaW5Vp_n"
   },
   "source": [
    "# 17. В фильмах какого жанра больше всего снимался Nicolas Cage? "
   ]
  },
  {
   "cell_type": "code",
   "execution_count": 74,
   "metadata": {
    "colab": {},
    "colab_type": "code",
    "id": "H74SJDIBVp_n"
   },
   "outputs": [
    {
     "data": {
      "text/plain": [
       "'Action'"
      ]
     },
     "metadata": {},
     "output_type": "display_data"
    }
   ],
   "source": [
    "data_NicolasCage = data.copy()\n",
    "# Отфильтровываем  и оставляем строки cast в которых есть Nicolas Cage\n",
    "data_NicolasCage = data_NicolasCage[data.cast.str.contains('Nicolas Cage')]\n",
    "display(collections.Counter(data_NicolasCage['genres'].str.cat(sep='|').split('|')).most_common(1)[0][0])\n",
    "answers['17'] = collections.Counter(data_NicolasCage['genres'].str.cat(sep='|').split('|')).most_common(1)[0][0]\n",
    "# +"
   ]
  },
  {
   "cell_type": "markdown",
   "metadata": {
    "colab_type": "text",
    "id": "RqOmPRfWVp_q"
   },
   "source": [
    "# 18. Самый убыточный фильм от Paramount Pictures"
   ]
  },
  {
   "cell_type": "code",
   "execution_count": 75,
   "metadata": {
    "colab": {},
    "colab_type": "code",
    "id": "9E_B0Y96Vp_r"
   },
   "outputs": [
    {
     "data": {
      "text/plain": [
       "'K-19: The Widowmaker'"
      ]
     },
     "metadata": {},
     "output_type": "display_data"
    }
   ],
   "source": [
    "# Отфильтровываем  и оставляем строки production_companies с Paramount Pictures\n",
    "data_profit_min = data[data.production_companies.str.contains('Paramount Pictures')].copy()\n",
    "# Сортируем через профит\n",
    "data_profit_min = data_profit_min.sort_values(by='profit', ascending=True)\n",
    "# Выводим фильм по условию\n",
    "display(data_profit_min.original_title.iloc[0])\n",
    "answers['18'] = data_profit_min.original_title.iloc[0]\n",
    "# +"
   ]
  },
  {
   "cell_type": "markdown",
   "metadata": {
    "colab_type": "text",
    "id": "vS8Ur6ddVp_u"
   },
   "source": [
    "# 19. Какой год стал самым успешным по суммарным кассовым сборам?"
   ]
  },
  {
   "cell_type": "code",
   "execution_count": 76,
   "metadata": {
    "colab": {},
    "colab_type": "code",
    "id": "Dnbt4GdIVp_v"
   },
   "outputs": [
    {
     "data": {
      "text/plain": [
       "2015"
      ]
     },
     "metadata": {},
     "output_type": "display_data"
    }
   ],
   "source": [
    "# Группируем названия фильмов через суммированный profit по убыванию\n",
    "display(data.groupby(['release_year'])['revenue'].sum().sort_values(ascending=False).index[0])\n",
    "answers['19'] = data.groupby(['release_year'])['revenue'].sum().sort_values(ascending=False).index[0]\n",
    "# +"
   ]
  },
  {
   "cell_type": "markdown",
   "metadata": {
    "colab_type": "text",
    "id": "JAzJh4QAVp_z"
   },
   "source": [
    "# 20. Какой самый прибыльный год для студии Warner Bros?"
   ]
  },
  {
   "cell_type": "code",
   "execution_count": 77,
   "metadata": {
    "colab": {},
    "colab_type": "code",
    "id": "wgVu02DEVp_0"
   },
   "outputs": [
    {
     "data": {
      "text/plain": [
       "2014"
      ]
     },
     "metadata": {},
     "output_type": "display_data"
    }
   ],
   "source": [
    "# Отфильтровываем  и оставляем строки production_companies с Warner Bros\n",
    "data_profit_sum = data[data.production_companies.str.contains('Warner Bros')].copy()\n",
    "# Группирование названий фильмов через суммированный profit по убыванию\n",
    "display(data_profit_sum.groupby(['release_year'])['profit'].sum().sort_values(ascending=False).index[0])\n",
    "answers['20'] = data_profit_sum.groupby(['release_year'])['profit'].sum().sort_values(ascending=False).index[0]\n",
    "# +"
   ]
  },
  {
   "cell_type": "markdown",
   "metadata": {
    "colab_type": "text",
    "id": "8Im1S2HRVp_4"
   },
   "source": [
    "# 21. В каком месяце за все годы суммарно вышло больше всего фильмов?"
   ]
  },
  {
   "cell_type": "code",
   "execution_count": 78,
   "metadata": {
    "colab": {},
    "colab_type": "code",
    "id": "lev6TH7gVp_4"
   },
   "outputs": [
    {
     "data": {
      "text/plain": [
       "'Сентябрь'"
      ]
     },
     "metadata": {},
     "output_type": "display_data"
    }
   ],
   "source": [
    "# Создаем копию\n",
    "data_monts = data.copy()\n",
    "# Преобразуем колонку с резлизной датой\n",
    "data_monts['release_date'] = data_monts['release_date'].apply(lambda x: x.split('/'))\n",
    "# Берем каждый первый элемент и записываем в новую колонку month\n",
    "data_monts['month'] = data_monts['release_date'].apply(lambda x: int(x[0]))\n",
    "# Определяем колличество фильмов в каждом месяце\n",
    "numbers_months = data_monts.month.value_counts()\n",
    "# Выводим фильм с самым большим колличеством фильмов\n",
    "display(months[numbers_months.index[0]])\n",
    "answers['21'] = months[numbers_months.index[0]]\n",
    "# +"
   ]
  },
  {
   "cell_type": "markdown",
   "metadata": {
    "colab_type": "text",
    "id": "uAJsZ_NeVp_7"
   },
   "source": [
    "# 22. Сколько суммарно вышло фильмов летом? (за июнь, июль, август)"
   ]
  },
  {
   "cell_type": "code",
   "execution_count": 79,
   "metadata": {
    "colab": {},
    "colab_type": "code",
    "id": "Aa-hEREoVp_8"
   },
   "outputs": [
    {
     "name": "stdout",
     "output_type": "stream",
     "text": [
      "450\n"
     ]
    }
   ],
   "source": [
    "# Создаем копию\n",
    "data_summer = data.copy()\n",
    "# Преобразуем колонку с резлизной датой\n",
    "data_summer.release_date = data_summer.release_date.apply(lambda x: x.split('/'))\n",
    "# Берем каждый первый элемент и записываем в новую колонку month\n",
    "data_summer['month'] = data_summer['release_date'].apply(lambda x: int(x[0]))\n",
    "# Выводим сумму фильмов летом \n",
    "print(len(data_summer[data_summer[\"month\"].isin([\"6\", \"7\", \"8\"])]))\n",
    "answers['22'] = len(data_summer[data_summer[\"month\"].isin([\"6\", \"7\", \"8\"])])\n",
    "# +"
   ]
  },
  {
   "cell_type": "markdown",
   "metadata": {
    "colab_type": "text",
    "id": "G94ppOY1VqAA"
   },
   "source": [
    "# 23. Для какого режиссера зима – самое продуктивное время года? "
   ]
  },
  {
   "cell_type": "code",
   "execution_count": 80,
   "metadata": {
    "colab": {},
    "colab_type": "code",
    "id": "RhNTsamuVqAB"
   },
   "outputs": [
    {
     "data": {
      "text/plain": [
       "'Peter Jackson'"
      ]
     },
     "metadata": {},
     "output_type": "display_data"
    }
   ],
   "source": [
    "# Создаем копию\n",
    "data_winter = data.copy()\n",
    "# Преобразуем колонку\n",
    "data_winter['release_date'] = data_winter['release_date'].apply(lambda x: x.split('/'))\n",
    "# Берем каждый первый элемент и записываем в новую колонку month\n",
    "data_winter['month'] = data_winter['release_date'].apply(lambda x: str(x[0]))\n",
    "# Выводим сумму фильмов летом \n",
    "display(data_winter[data_winter.month.isin(['12', '1', '2'])].director.value_counts().index[0])\n",
    "answers['23'] = data_winter[data_winter.month.isin(['12', '1', '2'])].director.value_counts().index[0]\n",
    "# +"
   ]
  },
  {
   "cell_type": "markdown",
   "metadata": {
    "colab_type": "text",
    "id": "RBo0JVjVVqAF"
   },
   "source": [
    "# 24. Какая студия дает самые длинные названия своим фильмам по количеству символов?"
   ]
  },
  {
   "cell_type": "code",
   "execution_count": 81,
   "metadata": {
    "colab": {},
    "colab_type": "code",
    "id": "QRGS8L0iVqAG"
   },
   "outputs": [
    {
     "data": {
      "text/plain": [
       "'Four By Two Productions'"
      ]
     },
     "metadata": {},
     "output_type": "display_data"
    }
   ],
   "source": [
    "# Создаем копию\n",
    "data_long_titles = data.copy()\n",
    "# Содзаем колонку с длиной названий фильмов \n",
    "data_long_titles['original_title_len'] = data_long_titles['original_title'].apply(lambda x: len(x))\n",
    "# Разделяем студии\n",
    "data_long_titles['production_companies'] = data_long_titles['production_companies'].str.split('|')\n",
    "#создаем для каждой студии свою строчку\n",
    "data_long_titles = data_long_titles.explode('production_companies')\n",
    "# Группируем и выводим результат по условию\n",
    "display(data_long_titles.groupby(['production_companies']).original_title_len.mean().sort_values(ascending=False).index[0])\n",
    "answers['24'] = data_long_titles.groupby(['production_companies']).original_title_len.mean().sort_values(ascending=False).index[0]\n",
    "# +"
   ]
  },
  {
   "cell_type": "markdown",
   "metadata": {
    "colab_type": "text",
    "id": "9G0hbvR7VqAK"
   },
   "source": [
    "# 25. Описание фильмов какой студии в среднем самые длинные по количеству слов?"
   ]
  },
  {
   "cell_type": "code",
   "execution_count": 82,
   "metadata": {
    "colab": {},
    "colab_type": "code",
    "id": "Ge2GsLNxVqAK"
   },
   "outputs": [
    {
     "data": {
      "text/plain": [
       "'Midnight Picture Show'"
      ]
     },
     "metadata": {},
     "output_type": "display_data"
    }
   ],
   "source": [
    "# Создаем копию\n",
    "data_long_mean = data.copy()\n",
    "# Преобразуем колонку с описанием по колличеству слов\n",
    "data_long_mean['overview'] = data_long_mean['overview'].apply(lambda x: len(x.split()))\n",
    "# Разделяем студии\n",
    "data_long_mean['production_companies'] = data_long_mean['production_companies'].str.split('|')\n",
    "# Cоздаем для каждой студии свою строчку\n",
    "data_long_mean = data_long_mean.explode('production_companies')\n",
    "# Группируем и выводим результат по условию\n",
    "display(data_long_mean.groupby(['production_companies']).overview.mean().sort_values(ascending=False).index[0])\n",
    "answers['25'] = data_long_mean.groupby(['production_companies']).overview.mean().sort_values(ascending=False).index[0]\n",
    "# +"
   ]
  },
  {
   "cell_type": "markdown",
   "metadata": {
    "colab_type": "text",
    "id": "FJ1AFt90VqAP"
   },
   "source": [
    "# 26. Какие фильмы входят в 1 процент лучших по рейтингу? \n",
    "по vote_average"
   ]
  },
  {
   "cell_type": "code",
   "execution_count": 83,
   "metadata": {
    "colab": {},
    "colab_type": "code",
    "id": "8qmJVq4CVqAQ"
   },
   "outputs": [
    {
     "data": {
      "text/plain": [
       "['Inside Out', 'The Dark Knight', '12 Years a Slave']"
      ]
     },
     "metadata": {},
     "output_type": "display_data"
    }
   ],
   "source": [
    "# Создаем копию\n",
    "data_one_percent = data.copy()\n",
    "# Выполняем сортировку по vote_average\n",
    "data_one_percent = data_one_percent.sort_values('vote_average')[['original_title', 'vote_average']]\n",
    "# Находим 1% лучших по рейтингу\n",
    "data_one_percent = data_one_percent.query('vote_average >= vote_average.quantile(0.99)').sort_values('vote_average', ascending=False)\n",
    "# Выводим фильмы, которые подходят для ответа\n",
    "display(data_one_percent['original_title'].iloc[[2,0,13]].values.tolist())\n",
    "answers['26'] = data_one_percent['original_title'].iloc[[2,0,13]].values.tolist()\n"
   ]
  },
  {
   "cell_type": "markdown",
   "metadata": {
    "colab_type": "text",
    "id": "MdXsUXbCVqAV"
   },
   "source": [
    "# 27. Какие актеры чаще всего снимаются в одном фильме вместе?\n"
   ]
  },
  {
   "cell_type": "code",
   "execution_count": 84,
   "metadata": {},
   "outputs": [
    {
     "data": {
      "text/plain": [
       "('Daniel Radcliffe', 'Rupert Grint')"
      ]
     },
     "metadata": {},
     "output_type": "display_data"
    }
   ],
   "source": [
    "# Создаем копию\n",
    "data_couple = data.copy()\n",
    "# Разделяем актеров\n",
    "data_couple['cast'] = data_couple['cast'].apply(lambda x: x.split('|'))\n",
    "# Находим пары, создаем новую колонку\n",
    "data_couple['pairs'] = data_couple['cast'].apply(lambda x: list(combinations(x, 2)))\n",
    "# Создаем парам свои строчки\n",
    "data_couple = data_couple.explode('pairs')\n",
    "# Находим тех, кто чаще всего снимается вместе\n",
    "display(collections.Counter(data_couple['pairs']).most_common(1)[0][0])\n",
    "answers['27'] = collections.Counter(data_couple['pairs']).most_common(1)[0][0]\n",
    "# +"
   ]
  },
  {
   "cell_type": "markdown",
   "metadata": {
    "colab_type": "text",
    "id": "U0nONFnGVqAX"
   },
   "source": [
    "# Submission"
   ]
  },
  {
   "cell_type": "code",
   "execution_count": 85,
   "metadata": {
    "colab": {},
    "colab_type": "code",
    "id": "IfcaRO9-VqAX",
    "outputId": "0f132912-32bb-4196-c98c-abfbc4ad5a5f"
   },
   "outputs": [
    {
     "data": {
      "text/plain": [
       "{'1': 'Pirates of the Caribbean: On Stranger Tides',\n",
       " '2': 'Gods and Generals',\n",
       " '3': 'Winnie the Pooh',\n",
       " '4': 109.6585494970884,\n",
       " '5': 107.0,\n",
       " '6': 'Avatar',\n",
       " '7': 'The Lone Ranger',\n",
       " '8': 1478,\n",
       " '9': 'The Dark Knight',\n",
       " '10': 'The Lone Ranger',\n",
       " '11': 'Drama',\n",
       " '12': 'Drama',\n",
       " '13': 'Peter Jackson',\n",
       " '14': 'Robert Rodriguez',\n",
       " '15': 'Chris Hemsworth',\n",
       " '16': 'Matt Damon',\n",
       " '17': 'Action',\n",
       " '18': 'K-19: The Widowmaker',\n",
       " '19': 2015,\n",
       " '20': 2014,\n",
       " '21': 'Сентябрь',\n",
       " '22': 450,\n",
       " '23': 'Peter Jackson',\n",
       " '24': 'Four By Two Productions',\n",
       " '25': 'Midnight Picture Show',\n",
       " '26': ['Inside Out', 'The Dark Knight', '12 Years a Slave'],\n",
       " '27': ('Daniel Radcliffe', 'Rupert Grint')}"
      ]
     },
     "metadata": {},
     "output_type": "display_data"
    }
   ],
   "source": [
    "display(answers)"
   ]
  },
  {
   "cell_type": "code",
   "execution_count": 86,
   "metadata": {
    "colab": {},
    "colab_type": "code",
    "id": "SiRmHPl8VqAd"
   },
   "outputs": [
    {
     "data": {
      "text/plain": [
       "27"
      ]
     },
     "execution_count": 86,
     "metadata": {},
     "output_type": "execute_result"
    }
   ],
   "source": [
    "len(answers)"
   ]
  }
 ],
 "metadata": {
  "colab": {
   "name": "Copy of [SF-DST] Movies IMBD v4.1 TEMPLATE.ipynb",
   "provenance": []
  },
  "kernelspec": {
   "display_name": "Python 3",
   "language": "python",
   "name": "python3"
  },
  "language_info": {
   "codemirror_mode": {
    "name": "ipython",
    "version": 3
   },
   "file_extension": ".py",
   "mimetype": "text/x-python",
   "name": "python",
   "nbconvert_exporter": "python",
   "pygments_lexer": "ipython3",
   "version": "3.8.3"
  }
 },
 "nbformat": 4,
 "nbformat_minor": 1
}
